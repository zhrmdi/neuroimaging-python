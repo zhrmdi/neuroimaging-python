{
 "cells": [
  {
   "cell_type": "markdown",
   "metadata": {},
   "source": [
    "Move the first volume of the BOLD data into the T1-weighted space and show that they are well aligned in that space. Save the resulting data into a new NIfTI file."
   ]
  },
  {
   "cell_type": "code",
   "execution_count": 9,
   "metadata": {},
   "outputs": [],
   "source": [
    "import nibabel as nib\n",
    "\n",
    "img_bold = nib.load('/Users/zahra/Projects/neuroimaging-python/neuroimaging-python/exercises/12/ds001233/sub-17/ses-pre/func/sub-17_ses-pre_task-cuedSFM_run-01_bold.nii.gz')\n",
    "data_bold = img_bold.get_fdata()\n",
    "affine_bold = img_bold.affine\n",
    "\n",
    "img_t1 = nib.load('/Users/zahra/Projects/neuroimaging-python/neuroimaging-python/exercises/12/ds001233/sub-17/ses-pre/anat/sub-17_ses-pre_T1w.nii.gz')\n",
    "data_t1 = img_t1.get_fdata()\n",
    "affine_t1 = img_t1.affine\n"
   ]
  },
  {
   "cell_type": "code",
   "execution_count": 8,
   "metadata": {},
   "outputs": [
    {
     "name": "stdout",
     "output_type": "stream",
     "text": [
      "(96, 96, 66, 241)\n",
      "(256, 256, 176)\n"
     ]
    }
   ],
   "source": [
    "print(data_bold.shape)\n",
    "print(data_t1.shape)"
   ]
  },
  {
   "cell_type": "code",
   "execution_count": 17,
   "metadata": {},
   "outputs": [],
   "source": [
    "from nibabel.processing import resample_from_to\n",
    "\n",
    "img_t1_resampled = resample_from_to(img_t1, (img_bold.shape[:3], img_bold.affine))\n",
    "data_t1_resampled = img_t1_resampled.get_fdata()"
   ]
  },
  {
   "cell_type": "code",
   "execution_count": 18,
   "metadata": {},
   "outputs": [
    {
     "name": "stdout",
     "output_type": "stream",
     "text": [
      "(96, 96, 66, 241)\n",
      "(96, 96, 66)\n"
     ]
    }
   ],
   "source": [
    "print(data_bold.shape)\n",
    "print(data_t1_resampled.shape)"
   ]
  }
 ],
 "metadata": {
  "kernelspec": {
   "display_name": "neuroimaging-python",
   "language": "python",
   "name": "python3"
  },
  "language_info": {
   "codemirror_mode": {
    "name": "ipython",
    "version": 3
   },
   "file_extension": ".py",
   "mimetype": "text/x-python",
   "name": "python",
   "nbconvert_exporter": "python",
   "pygments_lexer": "ipython3",
   "version": "3.8.19"
  }
 },
 "nbformat": 4,
 "nbformat_minor": 2
}
