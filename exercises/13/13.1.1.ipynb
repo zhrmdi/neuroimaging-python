{
 "cells": [
  {
   "cell_type": "markdown",
   "metadata": {},
   "source": [
    "What is the location of [1, 1, 1] RAS in the LAS coordinate frame? <br>\n",
    "\n",
    "The LAS coordinate is: \n",
    "- Left to right on the x axis,\n",
    "- Anterior to posterior on the y axis and,\n",
    "- Superior to inferior on the z axis."
   ]
  }
 ],
 "metadata": {
  "kernelspec": {
   "display_name": "neuroimaging-python",
   "language": "python",
   "name": "python3"
  },
  "language_info": {
   "name": "python",
   "version": "3.8.19"
  }
 },
 "nbformat": 4,
 "nbformat_minor": 2
}
